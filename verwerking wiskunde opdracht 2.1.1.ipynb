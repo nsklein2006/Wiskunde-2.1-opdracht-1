{
 "cells": [
  {
   "cell_type": "code",
   "execution_count": 27,
   "id": "52f5e0ac-dc99-48a0-b715-2b4b7367ef02",
   "metadata": {},
   "outputs": [
    {
     "ename": "SyntaxError",
     "evalue": "invalid syntax (81193776.py, line 12)",
     "output_type": "error",
     "traceback": [
      "\u001b[1;36m  Cell \u001b[1;32mIn[27], line 12\u001b[1;36m\u001b[0m\n\u001b[1;33m    sigma = np.std(?)\u001b[0m\n\u001b[1;37m                   ^\u001b[0m\n\u001b[1;31mSyntaxError\u001b[0m\u001b[1;31m:\u001b[0m invalid syntax\n"
     ]
    }
   ],
   "source": [
    "import numpy as np\n",
    "\n",
    "# valversnelling (gegeven in de opdracht)\n",
    "g = 9.81       # m/s^2\n",
    "dg = 0.07      # meetonzekerheid op g\n",
    "\n",
    "# metingen in seconden\n",
    "t_meting = np.array([0.56, 0.55, 0.57, 0.54, 0.53, 0.52, 0.54, 0.53])\n",
    "\n",
    "# gemiddelde van t_meting en standaardafwijking van t_meting\n",
    "t_gem = np.mean(t_meting)\n",
    "sigma = np.std(?)  \n",
    "dt = sigma/np.sqrt(8)\n",
    "\n",
    "# hoogte berekening\n",
    "h = 0.5 * g * t_gem**2\n",
    "\n",
    "# foutpropagatie\n",
    "dh = np.sqrt(((0.5 * t_gem**2) * dg)**2 + ((g * t_gem) * dt)**2)\n",
    "\n",
    "print(\"Gemiddelde tijd met meetonzekerheid:\", t_gem, dt)\n",
    "print(\"Hoogte met meetonzekerheid (m):\", h, dh)\n"
   ]
  },
  {
   "cell_type": "code",
   "execution_count": null,
   "id": "2c204c49-8eae-42c9-91a6-d15f48c7a742",
   "metadata": {},
   "outputs": [],
   "source": []
  }
 ],
 "metadata": {
  "kernelspec": {
   "display_name": "Python 3 (ipykernel)",
   "language": "python",
   "name": "python3"
  },
  "language_info": {
   "codemirror_mode": {
    "name": "ipython",
    "version": 3
   },
   "file_extension": ".py",
   "mimetype": "text/x-python",
   "name": "python",
   "nbconvert_exporter": "python",
   "pygments_lexer": "ipython3",
   "version": "3.12.7"
  }
 },
 "nbformat": 4,
 "nbformat_minor": 5
}
