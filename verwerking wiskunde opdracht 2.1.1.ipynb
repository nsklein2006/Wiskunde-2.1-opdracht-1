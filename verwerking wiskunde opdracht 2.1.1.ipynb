{
 "cells": [
  {
   "cell_type": "code",
   "execution_count": 29,
   "id": "52f5e0ac-dc99-48a0-b715-2b4b7367ef02",
   "metadata": {},
   "outputs": [
    {
     "name": "stdout",
     "output_type": "stream",
     "text": [
      "Gemiddelde tijd met meetonzekerheid (s): 0.5425 0.0059009684435208185\n",
      "Hoogte met meetonzekerheid (m): 1.4435721562500001 0.03305069058736529\n"
     ]
    }
   ],
   "source": [
    "import numpy as np\n",
    "\n",
    "# valversnelling (gegeven in de opdracht)\n",
    "g = 9.81       # m/s^2\n",
    "dg = 0.07      # meetonzekerheid op g\n",
    "\n",
    "# metingen in seconden\n",
    "t_meting = np.array([0.56, 0.55, 0.57, 0.54, 0.53, 0.52, 0.54, 0.53])\n",
    "\n",
    "# gemiddelde van t_meting en standaardafwijking van t_meting\n",
    "t_gem = np.mean(t_meting)\n",
    "\n",
    "sigma = np.std(t_meting, ddof=1)\n",
    "sigma_handmatig = np.sqrt((1/(len(t_meting)-1))*np.sum((t_meting-np.mean(t_meting))**2))\n",
    "\n",
    "dt = sigma/np.sqrt(8)\n",
    "\n",
    "# hoogte\n",
    "h = 0.5 * g * t_gem**2\n",
    "\n",
    "#standaartwafwijking van hoogte\n",
    "dh = np.sqrt(((0.5 * t_gem**2) * dg)**2 + ((g * t_gem) * dt)**2)\n",
    "\n",
    "print(\"Gemiddelde tijd met meetonzekerheid (s):\", t_gem, dt)\n",
    "print(\"Hoogte met meetonzekerheid (m):\", h, dh)\n"
   ]
  },
  {
   "cell_type": "code",
   "execution_count": null,
   "id": "2c204c49-8eae-42c9-91a6-d15f48c7a742",
   "metadata": {},
   "outputs": [],
   "source": []
  }
 ],
 "metadata": {
  "kernelspec": {
   "display_name": "Python 3 (ipykernel)",
   "language": "python",
   "name": "python3"
  },
  "language_info": {
   "codemirror_mode": {
    "name": "ipython",
    "version": 3
   },
   "file_extension": ".py",
   "mimetype": "text/x-python",
   "name": "python",
   "nbconvert_exporter": "python",
   "pygments_lexer": "ipython3",
   "version": "3.12.7"
  }
 },
 "nbformat": 4,
 "nbformat_minor": 5
}
